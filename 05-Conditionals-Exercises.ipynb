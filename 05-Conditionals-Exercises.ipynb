{
 "cells": [
  {
   "cell_type": "code",
   "execution_count": 14,
   "metadata": {},
   "outputs": [
    {
     "name": "stdout",
     "output_type": "stream",
     "text": [
      "[27]\n",
      "Yay, Summer\n"
     ]
    }
   ],
   "source": [
    "import numpy as np\n",
    "\n",
    "temperature = np.random.randint(low=-90, high=60, size=1)\n",
    "print (temperature)\n",
    "\n",
    "if temperature > 20:\n",
    "    print ('Yay, Summer')\n",
    "elif temperature <= 20 and temperature >= 10:\n",
    "    print ('Summer is going away')\n",
    "elif temperature < 10:\n",
    "    print (\"I bet you it's going to rain today\")"
   ]
  },
  {
   "cell_type": "code",
   "execution_count": null,
   "metadata": {},
   "outputs": [],
   "source": [
    "temperature = np.random.randint(low=-90, high=60, size=1)\n",
    "print (temperature)\n",
    "\n",
    "if temperature > 20:\n",
    "    print ('Yay, Summer')\n",
    "elif 10 <= temperature <= 20:\n",
    "    print ('Summer is going away')\n",
    "elif temperature < 10:\n",
    "    print (\"I bet you it's going to rain today\")"
   ]
  },
  {
   "cell_type": "code",
   "execution_count": 15,
   "metadata": {},
   "outputs": [],
   "source": [
    "data = np.loadtxt(fname='data/inflammation-01.csv', delimiter=',')"
   ]
  },
  {
   "cell_type": "code",
   "execution_count": 16,
   "metadata": {},
   "outputs": [
    {
     "name": "stdout",
     "output_type": "stream",
     "text": [
      "Suspicious looking maxima\n"
     ]
    }
   ],
   "source": [
    "if data.max(axis=0)[0] ==0 and data.max(axis=0)[20] == 20:\n",
    "    print('Suspicious looking maxima')\n",
    "elif data.min(axis=0).sum() == 0:\n",
    "    print('Minima add up to zero!')\n",
    "else:\n",
    "    print('Seems OK')"
   ]
  },
  {
   "cell_type": "code",
   "execution_count": null,
   "metadata": {},
   "outputs": [],
   "source": []
  }
 ],
 "metadata": {
  "kernelspec": {
   "display_name": "Python 3",
   "language": "python",
   "name": "python3"
  },
  "language_info": {
   "codemirror_mode": {
    "name": "ipython",
    "version": 3
   },
   "file_extension": ".py",
   "mimetype": "text/x-python",
   "name": "python",
   "nbconvert_exporter": "python",
   "pygments_lexer": "ipython3",
   "version": "3.6.0"
  }
 },
 "nbformat": 4,
 "nbformat_minor": 2
}
